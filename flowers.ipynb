{
  "nbformat": 4,
  "nbformat_minor": 0,
  "metadata": {
    "colab": {
      "name": "flowers.ipynb",
      "provenance": []
    },
    "kernelspec": {
      "name": "python3",
      "display_name": "Python 3"
    },
    "accelerator": "GPU"
  },
  "cells": [
    {
      "cell_type": "code",
      "metadata": {
        "id": "yLuL9trQ_Tbe",
        "colab_type": "code",
        "colab": {
          "base_uri": "https://localhost:8080/",
          "height": 54
        },
        "outputId": "be0839b1-fb19-493a-8f2f-0d091290f253"
      },
      "source": [
        "import tensorflow as tf\n",
        "import os\n",
        "_url=\"https://storage.googleapis.com/download.tensorflow.org/example_images/flower_photos.tgz\"\n",
        "data=tf.keras.utils.get_file(origin=_url,fname=\"flower_photos.tgz\",extract=True,cache_subdir=('/content'))\n",
        "base_dir=os.path.join(os.path.dirname(data),'flower_photos')"
      ],
      "execution_count": null,
      "outputs": [
        {
          "output_type": "stream",
          "text": [
            "Downloading data from https://storage.googleapis.com/download.tensorflow.org/example_images/flower_photos.tgz\n",
            "228818944/228813984 [==============================] - 2s 0us/step\n"
          ],
          "name": "stdout"
        }
      ]
    },
    {
      "cell_type": "code",
      "metadata": {
        "id": "O-9cQ5NlAkYw",
        "colab_type": "code",
        "colab": {
          "base_uri": "https://localhost:8080/",
          "height": 54
        },
        "outputId": "d5eb2e82-fcff-4827-d0b6-3e13e2ac0959"
      },
      "source": [
        "IMG_SIZE=224\n",
        "Batch_Size=32\n",
        "\n",
        "\n",
        "datagen=tf.keras.preprocessing.image.ImageDataGenerator(\n",
        "    rescale=1.0/255,\n",
        "    validation_split=0.2\n",
        ")\n",
        "\n",
        "train_generator=datagen.flow_from_directory(\n",
        "    base_dir,\n",
        "    target_size=(IMG_SIZE,IMG_SIZE),batch_size=Batch_Size,\n",
        "    subset=\"training\"\n",
        ")\n",
        "\n",
        "val_generator=datagen.flow_from_directory(\n",
        "    base_dir,\n",
        "    target_size=(IMG_SIZE,IMG_SIZE),batch_size=Batch_Size,\n",
        "    subset=\"validation\"\n",
        ")\n"
      ],
      "execution_count": null,
      "outputs": [
        {
          "output_type": "stream",
          "text": [
            "Found 2939 images belonging to 5 classes.\n",
            "Found 731 images belonging to 5 classes.\n"
          ],
          "name": "stdout"
        }
      ]
    },
    {
      "cell_type": "code",
      "metadata": {
        "id": "cyeM4-GMB4oz",
        "colab_type": "code",
        "colab": {}
      },
      "source": [
        "labels='\\n'.join(sorted(train_generator.class_indices.keys()))\n",
        "with open('labels.txt','w') as f:\n",
        "  f.write(labels)\n"
      ],
      "execution_count": null,
      "outputs": []
    },
    {
      "cell_type": "code",
      "metadata": {
        "id": "a523hecGCRc9",
        "colab_type": "code",
        "colab": {
          "base_uri": "https://localhost:8080/",
          "height": 74
        },
        "outputId": "4910ed54-a2be-46bb-fea6-838814ec4e55"
      },
      "source": [
        "IMG_SHAPE=(IMG_SIZE,IMG_SIZE,3)\n",
        "base_model=tf.keras.applications.MobileNetV2(input_shape=IMG_SHAPE,include_top=False,weights=\"imagenet\")"
      ],
      "execution_count": null,
      "outputs": [
        {
          "output_type": "stream",
          "text": [
            "Downloading data from https://storage.googleapis.com/tensorflow/keras-applications/mobilenet_v2/mobilenet_v2_weights_tf_dim_ordering_tf_kernels_1.0_224_no_top.h5\n",
            "9412608/9406464 [==============================] - 0s 0us/step\n"
          ],
          "name": "stdout"
        }
      ]
    },
    {
      "cell_type": "code",
      "metadata": {
        "id": "XhJcF5uvC0Vo",
        "colab_type": "code",
        "colab": {
          "base_uri": "https://localhost:8080/",
          "height": 348
        },
        "outputId": "f8961111-193a-44e0-abb8-700638de3cea"
      },
      "source": [
        "base_model.trainable=False\n",
        "model=tf.keras.Sequential([\n",
        "            base_model,\n",
        "            tf.keras.layers.Conv2D(32,3,activation=\"relu\"),\n",
        "            tf.keras.layers.Dropout(0.25),\n",
        "            tf.keras.layers.GlobalAveragePooling2D(),\n",
        "            tf.keras.layers.Dense(5,activation=\"softmax\")\n",
        "])\n",
        "model.summary()"
      ],
      "execution_count": null,
      "outputs": [
        {
          "output_type": "stream",
          "text": [
            "Model: \"sequential\"\n",
            "_________________________________________________________________\n",
            "Layer (type)                 Output Shape              Param #   \n",
            "=================================================================\n",
            "mobilenetv2_1.00_224 (Functi (None, 7, 7, 1280)        2257984   \n",
            "_________________________________________________________________\n",
            "conv2d (Conv2D)              (None, 5, 5, 32)          368672    \n",
            "_________________________________________________________________\n",
            "dropout (Dropout)            (None, 5, 5, 32)          0         \n",
            "_________________________________________________________________\n",
            "global_average_pooling2d (Gl (None, 32)                0         \n",
            "_________________________________________________________________\n",
            "dense (Dense)                (None, 5)                 165       \n",
            "=================================================================\n",
            "Total params: 2,626,821\n",
            "Trainable params: 368,837\n",
            "Non-trainable params: 2,257,984\n",
            "_________________________________________________________________\n"
          ],
          "name": "stdout"
        }
      ]
    },
    {
      "cell_type": "code",
      "metadata": {
        "id": "T6ufLsLYDtzV",
        "colab_type": "code",
        "colab": {}
      },
      "source": [
        "model.compile(optimizer=\"adam\",loss='categorical_crossentropy',metrics=['accuracy'])"
      ],
      "execution_count": null,
      "outputs": []
    },
    {
      "cell_type": "code",
      "metadata": {
        "id": "DSZTB1sJEK05",
        "colab_type": "code",
        "colab": {
          "base_uri": "https://localhost:8080/",
          "height": 384
        },
        "outputId": "d44a832a-3ba0-4904-a26b-6c0c83f5dc28"
      },
      "source": [
        "history=model.fit(train_generator,\n",
        "                  validation_data=val_generator,\n",
        "                  epochs=10)"
      ],
      "execution_count": null,
      "outputs": [
        {
          "output_type": "stream",
          "text": [
            "Epoch 1/10\n",
            "92/92 [==============================] - 17s 186ms/step - loss: 0.7377 - accuracy: 0.7509 - val_loss: 0.4595 - val_accuracy: 0.8468\n",
            "Epoch 2/10\n",
            "92/92 [==============================] - 16s 170ms/step - loss: 0.3043 - accuracy: 0.8945 - val_loss: 0.4219 - val_accuracy: 0.8659\n",
            "Epoch 3/10\n",
            "92/92 [==============================] - 16s 169ms/step - loss: 0.1796 - accuracy: 0.9388 - val_loss: 0.3880 - val_accuracy: 0.8700\n",
            "Epoch 4/10\n",
            "92/92 [==============================] - 16s 170ms/step - loss: 0.1130 - accuracy: 0.9626 - val_loss: 0.4729 - val_accuracy: 0.8659\n",
            "Epoch 5/10\n",
            "92/92 [==============================] - 16s 169ms/step - loss: 0.0811 - accuracy: 0.9755 - val_loss: 0.4397 - val_accuracy: 0.8687\n",
            "Epoch 6/10\n",
            "92/92 [==============================] - 16s 169ms/step - loss: 0.0591 - accuracy: 0.9823 - val_loss: 0.4718 - val_accuracy: 0.8591\n",
            "Epoch 7/10\n",
            "92/92 [==============================] - 16s 169ms/step - loss: 0.0437 - accuracy: 0.9888 - val_loss: 0.6447 - val_accuracy: 0.8413\n",
            "Epoch 8/10\n",
            "92/92 [==============================] - 15s 168ms/step - loss: 0.0283 - accuracy: 0.9929 - val_loss: 0.5371 - val_accuracy: 0.8605\n",
            "Epoch 9/10\n",
            "92/92 [==============================] - 16s 169ms/step - loss: 0.0176 - accuracy: 0.9956 - val_loss: 0.5682 - val_accuracy: 0.8605\n",
            "Epoch 10/10\n",
            "92/92 [==============================] - 15s 168ms/step - loss: 0.0103 - accuracy: 0.9990 - val_loss: 0.5612 - val_accuracy: 0.8591\n"
          ],
          "name": "stdout"
        }
      ]
    },
    {
      "cell_type": "code",
      "metadata": {
        "id": "fcy7hNEkEayJ",
        "colab_type": "code",
        "colab": {
          "base_uri": "https://localhost:8080/",
          "height": 166
        },
        "outputId": "7278544b-afd1-4b7c-855e-3bd956b3fd37"
      },
      "source": [
        "saved_model_dir=\"\"\n",
        "tf.saved_model.save(model,saved_model_dir)\n",
        "converter = tf.lite.TFLiteConverter.from_saved_model(saved_model_dir) # path to the SavedModel directory\n",
        "tflite_model = converter.convert()\n"
      ],
      "execution_count": null,
      "outputs": [
        {
          "output_type": "stream",
          "text": [
            "WARNING:tensorflow:From /usr/local/lib/python3.6/dist-packages/tensorflow/python/training/tracking/tracking.py:111: Model.state_updates (from tensorflow.python.keras.engine.training) is deprecated and will be removed in a future version.\n",
            "Instructions for updating:\n",
            "This property should not be used in TensorFlow 2.0, as updates are applied automatically.\n",
            "WARNING:tensorflow:From /usr/local/lib/python3.6/dist-packages/tensorflow/python/training/tracking/tracking.py:111: Layer.updates (from tensorflow.python.keras.engine.base_layer) is deprecated and will be removed in a future version.\n",
            "Instructions for updating:\n",
            "This property should not be used in TensorFlow 2.0, as updates are applied automatically.\n",
            "INFO:tensorflow:Assets written to: assets\n"
          ],
          "name": "stdout"
        }
      ]
    },
    {
      "cell_type": "code",
      "metadata": {
        "id": "sjVaEXoJFa29",
        "colab_type": "code",
        "colab": {}
      },
      "source": [
        "with open('model.tflite', 'wb') as f:\n",
        "  f.write(tflite_model)\n"
      ],
      "execution_count": null,
      "outputs": []
    },
    {
      "cell_type": "code",
      "metadata": {
        "id": "HPq6AgSuFgUr",
        "colab_type": "code",
        "colab": {
          "base_uri": "https://localhost:8080/",
          "height": 34
        },
        "outputId": "1295b5cf-1ffd-4789-e58f-528a98fb92dc"
      },
      "source": [
        "from google.colab import files\n",
        "files.download('model.tflite')\n",
        "files.download('labels.txt')"
      ],
      "execution_count": null,
      "outputs": [
        {
          "output_type": "display_data",
          "data": {
            "application/javascript": [
              "\n",
              "    async function download(id, filename, size) {\n",
              "      if (!google.colab.kernel.accessAllowed) {\n",
              "        return;\n",
              "      }\n",
              "      const div = document.createElement('div');\n",
              "      const label = document.createElement('label');\n",
              "      label.textContent = `Downloading \"${filename}\": `;\n",
              "      div.appendChild(label);\n",
              "      const progress = document.createElement('progress');\n",
              "      progress.max = size;\n",
              "      div.appendChild(progress);\n",
              "      document.body.appendChild(div);\n",
              "\n",
              "      const buffers = [];\n",
              "      let downloaded = 0;\n",
              "\n",
              "      const channel = await google.colab.kernel.comms.open(id);\n",
              "      // Send a message to notify the kernel that we're ready.\n",
              "      channel.send({})\n",
              "\n",
              "      for await (const message of channel.messages) {\n",
              "        // Send a message to notify the kernel that we're ready.\n",
              "        channel.send({})\n",
              "        if (message.buffers) {\n",
              "          for (const buffer of message.buffers) {\n",
              "            buffers.push(buffer);\n",
              "            downloaded += buffer.byteLength;\n",
              "            progress.value = downloaded;\n",
              "          }\n",
              "        }\n",
              "      }\n",
              "      const blob = new Blob(buffers, {type: 'application/binary'});\n",
              "      const a = document.createElement('a');\n",
              "      a.href = window.URL.createObjectURL(blob);\n",
              "      a.download = filename;\n",
              "      div.appendChild(a);\n",
              "      a.click();\n",
              "      div.remove();\n",
              "    }\n",
              "  "
            ],
            "text/plain": [
              "<IPython.core.display.Javascript object>"
            ]
          },
          "metadata": {
            "tags": []
          }
        },
        {
          "output_type": "display_data",
          "data": {
            "application/javascript": [
              "download(\"download_c1f50e9e-7a2b-4108-be24-8a5b0380e555\", \"model.tflite\", 10377116)"
            ],
            "text/plain": [
              "<IPython.core.display.Javascript object>"
            ]
          },
          "metadata": {
            "tags": []
          }
        },
        {
          "output_type": "display_data",
          "data": {
            "application/javascript": [
              "\n",
              "    async function download(id, filename, size) {\n",
              "      if (!google.colab.kernel.accessAllowed) {\n",
              "        return;\n",
              "      }\n",
              "      const div = document.createElement('div');\n",
              "      const label = document.createElement('label');\n",
              "      label.textContent = `Downloading \"${filename}\": `;\n",
              "      div.appendChild(label);\n",
              "      const progress = document.createElement('progress');\n",
              "      progress.max = size;\n",
              "      div.appendChild(progress);\n",
              "      document.body.appendChild(div);\n",
              "\n",
              "      const buffers = [];\n",
              "      let downloaded = 0;\n",
              "\n",
              "      const channel = await google.colab.kernel.comms.open(id);\n",
              "      // Send a message to notify the kernel that we're ready.\n",
              "      channel.send({})\n",
              "\n",
              "      for await (const message of channel.messages) {\n",
              "        // Send a message to notify the kernel that we're ready.\n",
              "        channel.send({})\n",
              "        if (message.buffers) {\n",
              "          for (const buffer of message.buffers) {\n",
              "            buffers.push(buffer);\n",
              "            downloaded += buffer.byteLength;\n",
              "            progress.value = downloaded;\n",
              "          }\n",
              "        }\n",
              "      }\n",
              "      const blob = new Blob(buffers, {type: 'application/binary'});\n",
              "      const a = document.createElement('a');\n",
              "      a.href = window.URL.createObjectURL(blob);\n",
              "      a.download = filename;\n",
              "      div.appendChild(a);\n",
              "      a.click();\n",
              "      div.remove();\n",
              "    }\n",
              "  "
            ],
            "text/plain": [
              "<IPython.core.display.Javascript object>"
            ]
          },
          "metadata": {
            "tags": []
          }
        },
        {
          "output_type": "display_data",
          "data": {
            "application/javascript": [
              "download(\"download_3f92b5de-a780-4a48-adaa-f407c5b0e981\", \"labels.txt\", 39)"
            ],
            "text/plain": [
              "<IPython.core.display.Javascript object>"
            ]
          },
          "metadata": {
            "tags": []
          }
        }
      ]
    },
    {
      "cell_type": "code",
      "metadata": {
        "id": "7aYIfLs8F1a9",
        "colab_type": "code",
        "colab": {}
      },
      "source": [
        ""
      ],
      "execution_count": null,
      "outputs": []
    }
  ]
}